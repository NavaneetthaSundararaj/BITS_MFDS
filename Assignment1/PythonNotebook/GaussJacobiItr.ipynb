{
 "cells": [
  {
   "cell_type": "code",
   "execution_count": 1,
   "id": "0e814ddd",
   "metadata": {},
   "outputs": [
    {
     "name": "stdout",
     "output_type": "stream",
     "text": [
      "A:\n",
      "[[  9   6 -10   2]\n",
      " [ -4  -5  -6   7]\n",
      " [  1   5   6   9]\n",
      " [ -6  -6   1   3]]\n",
      "###########################################\n",
      "B:\n",
      "[[ 7]\n",
      " [ 4]\n",
      " [-7]\n",
      " [ 7]]\n",
      "###########################################\n",
      "[0, 0, 0, 0]\n",
      "[0.778, -0.8, -1.167, 2.333]\n",
      "[-0.504, 3.244, -4.129, 2.678]\n",
      "[-6.568, 8.307, -7.803, 9.19]\n",
      "[-15.472, 26.684, -20.78, 8.412]\n",
      "[-41.97, 48.29, -33.443, 31.684]\n",
      "[-75.615, 117.265, -81.939, 26.121]\n",
      "[-174.247, 194.588, -125.466, 112.946]\n",
      "[-293.453, 447.281, -303.701, 84.837]\n",
      "[-653.708, 717.175, -452.248, 411.223]\n"
     ]
    },
    {
     "name": "stderr",
     "output_type": "stream",
     "text": [
      "C:\\Users\\NAVANE~1\\AppData\\Local\\Temp/ipykernel_5292/4040809281.py:20: RuntimeWarning: divide by zero encountered in double_scalars\n",
      "  diff=abs((Y[i]-X[i])/Y[i])\n"
     ]
    },
    {
     "data": {
      "image/png": "[encoded data removed]",
      "text/plain": [
       "<Figure size 432x288 with 1 Axes>"
      ]
     },
     "metadata": {
      "needs_background": "light"
     },
     "output_type": "display_data"
    },
    {
     "name": "stdout",
     "output_type": "stream",
     "text": [
      "Result: [-8.542694697099626e+28, -7.544002862543827e+28, 7.494779329873649e+28, 1.9366978227098478e+29]\n",
      "###########################################\n"
     ]
    }
   ],
   "source": [
    "import numpy as np\n",
    "import math\n",
    "from matplotlib import pyplot as plt \n",
    "#init the function with Square Matrix 4x4\n",
    "squareMatrixSize=4\n",
    "\n",
    "def solvegjFunction(A,B,X,count,plt):\n",
    "    if(count<=10):\n",
    "        print(X)\n",
    "    Y=X.copy()\n",
    "    for i in range(squareMatrixSize):\n",
    "        X[i]=0\n",
    "        for j in range(squareMatrixSize):\n",
    "            if(j!=i):\n",
    "                X[i]=X[i]-(Y[j]*A[i][j])\n",
    "        X[i]=X[i]+B[i][0]\n",
    "        X[i]=round(X[i]/A[i][i],3)\n",
    "    condition=True\n",
    "    for i in range(squareMatrixSize):\n",
    "        diff=abs((Y[i]-X[i])/Y[i])\n",
    "        if(diff>=0.00001):\n",
    "            condition=False\n",
    "            break\n",
    "            \n",
    "    #calculate the var for graph plot\n",
    "    for i in range(squareMatrixSize):\n",
    "        var=pow(X[i]-Y[i], 2)\n",
    "    var=math.sqrt(var)\n",
    "    plt.plot(count,var,\"ob\") \n",
    "    \n",
    "    if(not condition and count<=100): \n",
    "        return solvegjFunction(A,B,X,count+1,plt)\n",
    "    else:\n",
    "        return X\n",
    "\n",
    "#generate a 4x4 matrix with random numbers\n",
    "randomAMatrix=np.random.randint(-10,10,size=(squareMatrixSize,squareMatrixSize))\n",
    "#generate a 4x1 matrix with random numbers\n",
    "randomBMatrix=np.random.randint(-10,10,size=(squareMatrixSize,1))\n",
    "#Solution\n",
    "X =[0,0,0,0]\n",
    "print(\"A:\")\n",
    "print(randomAMatrix)\n",
    "print(\"###########################################\")\n",
    "print(\"B:\")\n",
    "print(randomBMatrix)\n",
    "print(\"###########################################\")\n",
    "#init the plot\n",
    "x = np.arange(1,101) \n",
    "plt.title(\"Gauss Jacobi iterations.\") \n",
    "plt.xlabel(\"Iterations\") \n",
    "plt.ylabel(\"∥xk+1 − xk∥2\") \n",
    "\n",
    "#get the result\n",
    "X=solvegjFunction(randomAMatrix,randomBMatrix,X,1,plt)\n",
    "#dispaly the graph \n",
    "plt.show()\n",
    "\n",
    "print(\"Result:\",X)\n",
    "print(\"###########################################\")"
   ]
  },
  {
   "cell_type": "code",
   "execution_count": 3,
   "id": "d1203b80",
   "metadata": {},
   "outputs": [
    {
     "name": "stdout",
     "output_type": "stream",
     "text": [
      "A:\n",
      "[[ 7  2 -3  1]\n",
      " [-4  8  1 -2]\n",
      " [ 3 -2  9  2]\n",
      " [ 1 -1  1  4]]\n",
      "###########################################\n",
      "B:\n",
      "[[-1]\n",
      " [16]\n",
      " [-3]\n",
      " [ 5]]\n",
      "###########################################\n",
      "[0, 0, 0, 0]\n",
      "[-0.143, 2.0, -0.333, 1.25]\n",
      "[-1.036, 2.283, -0.119, 1.869]\n",
      "[-1.113, 1.964, 0.104, 2.109]\n",
      "[-0.961, 1.958, 0.005, 1.993]\n",
      "[-0.985, 2.017, -0.021, 1.978]\n",
      "[-1.011, 2.005, 0.004, 2.006]\n",
      "[-1.001, 1.996, 0.003, 2.003]\n",
      "[-0.998, 2.0, -0.001, 1.998]\n",
      "[-1.0, 2.001, -0.0, 2.0]\n"
     ]
    },
    {
     "name": "stderr",
     "output_type": "stream",
     "text": [
      "C:\\Users\\NAVANE~1\\AppData\\Local\\Temp/ipykernel_5292/4040809281.py:20: RuntimeWarning: divide by zero encountered in double_scalars\n",
      "  diff=abs((Y[i]-X[i])/Y[i])\n",
      "C:\\Users\\NAVANE~1\\AppData\\Local\\Temp/ipykernel_5292/4040809281.py:20: RuntimeWarning: invalid value encountered in double_scalars\n",
      "  diff=abs((Y[i]-X[i])/Y[i])\n"
     ]
    },
    {
     "data": {
      "image/png": "[encoded data removed]",
      "text/plain": [
       "<Figure size 432x288 with 1 Axes>"
      ]
     },
     "metadata": {
      "needs_background": "light"
     },
     "output_type": "display_data"
    },
    {
     "name": "stdout",
     "output_type": "stream",
     "text": [
      "Result: [-1.0, 2.0, 0.0, 2.0]\n",
      "###########################################\n"
     ]
    }
   ],
   "source": [
    "#generate a 4x4 matrix with random numbers\n",
    "randomAMatrix=np.array([[7,2,-3,1],[-4,8,1,-2],[3,-2,9,2],[1,-1,1,4]])\n",
    "#generate a 4x1 matrix with random numbers\n",
    "randomBMatrix=np.array([[-1],[16],[-3],[5]])\n",
    "#Solution\n",
    "X =[0,0,0,0]\n",
    "print(\"A:\")\n",
    "print(randomAMatrix)\n",
    "print(\"###########################################\")\n",
    "print(\"B:\")\n",
    "print(randomBMatrix)\n",
    "print(\"###########################################\")\n",
    "#init the plot\n",
    "x = np.arange(1,101) \n",
    "plt.title(\"Gauss Seidel iterations.\") \n",
    "plt.xlabel(\"Iterations\") \n",
    "plt.ylabel(\"∥xk+1 − xk∥2\") \n",
    "\n",
    "#get the result\n",
    "X=solvegjFunction(randomAMatrix,randomBMatrix,X,1,plt)\n",
    "#dispaly the graph \n",
    "plt.show()\n",
    "\n",
    "print(\"Result:\",X)\n",
    "print(\"###########################################\")"
   ]
  },
  {
   "cell_type": "code",
   "execution_count": null,
   "id": "05c51069",
   "metadata": {},
   "outputs": [],
   "source": []
  }
 ],
 "metadata": {
  "kernelspec": {
   "display_name": "Python 3 (ipykernel)",
   "language": "python",
   "name": "python3"
  },
  "language_info": {
   "codemirror_mode": {
    "name": "ipython",
    "version": 3
   },
   "file_extension": ".py",
   "mimetype": "text/x-python",
   "name": "python",
   "nbconvert_exporter": "python",
   "pygments_lexer": "ipython3",
   "version": "3.9.7"
  }
 },
 "nbformat": 4,
 "nbformat_minor": 5
}
