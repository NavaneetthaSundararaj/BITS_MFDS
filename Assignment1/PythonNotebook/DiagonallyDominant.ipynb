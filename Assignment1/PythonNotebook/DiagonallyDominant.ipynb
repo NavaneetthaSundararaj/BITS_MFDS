{
 "cells": [
  {
   "cell_type": "code",
   "execution_count": 2,
   "id": "ce2b6bc2",
   "metadata": {},
   "outputs": [
    {
     "name": "stdout",
     "output_type": "stream",
     "text": [
      "[[ 0 -2  3 -6]\n",
      " [ 7  0  2 -1]\n",
      " [-8  8 -2 -9]\n",
      " [ 6  1 -3  4]]\n",
      "The matrix isnt diagonally dominant\n"
     ]
    }
   ],
   "source": [
    "import numpy as np\n",
    "import math\n",
    "#init the function with Square Matrix 4x4\n",
    "squareMatrixSize=4\n",
    "#Q1-i\n",
    "#define the function which checks matrix is diagonally dominant or not\n",
    "def checkIfDiagonallyDominant(matrix):\n",
    "    #print the Matrix\n",
    "    #print(matrix)\n",
    "    for i in range(squareMatrixSize):\n",
    "        diagonal=abs(matrix[i][i])\n",
    "        sum=0\n",
    "        for j in range(squareMatrixSize):\n",
    "            if i!=j:\n",
    "                sum+= abs(matrix[i][j])\n",
    "        if(diagonal<sum):\n",
    "            return \"The matrix isnt diagonally dominant\"\n",
    "    return \"The matrix is diagonally dominant\"\n",
    "\n",
    "\n",
    "#Main Logic Starts here\n",
    "#generate a 4x4 matrix with random numbers\n",
    "random_matrix_array=np.random.randint(-10,10,size=(squareMatrixSize,squareMatrixSize))\n",
    "print(random_matrix_array)\n",
    "print(checkIfDiagonallyDominant(random_matrix_array))\n"
   ]
  },
  {
   "cell_type": "code",
   "execution_count": null,
   "id": "f6fbac16",
   "metadata": {},
   "outputs": [],
   "source": []
  }
 ],
 "metadata": {
  "kernelspec": {
   "display_name": "Python 3 (ipykernel)",
   "language": "python",
   "name": "python3"
  },
  "language_info": {
   "codemirror_mode": {
    "name": "ipython",
    "version": 3
   },
   "file_extension": ".py",
   "mimetype": "text/x-python",
   "name": "python",
   "nbconvert_exporter": "python",
   "pygments_lexer": "ipython3",
   "version": "3.9.7"
  }
 },
 "nbformat": 4,
 "nbformat_minor": 5
}
