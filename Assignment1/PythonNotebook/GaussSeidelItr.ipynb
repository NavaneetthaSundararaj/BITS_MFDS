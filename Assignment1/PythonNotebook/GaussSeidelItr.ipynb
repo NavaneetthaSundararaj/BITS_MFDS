{
 "cells": [
  {
   "cell_type": "code",
   "execution_count": 1,
   "id": "d1758787",
   "metadata": {},
   "outputs": [
    {
     "name": "stdout",
     "output_type": "stream",
     "text": [
      "A:\n",
      "[[ 3  2  4  2]\n",
      " [ 3  2 -6 -6]\n",
      " [-1 -3  5  1]\n",
      " [-5 -1  3 -6]]\n",
      "###########################################\n",
      "B:\n",
      "[[ 6]\n",
      " [ 7]\n",
      " [ 9]\n",
      " [-4]]\n",
      "###########################################\n",
      "[0, 0, 0, 0]\n",
      "[2.0, 0.5, 2.5, 0.167]\n",
      "[-1.778, 14.168, 9.912, 4.743]\n",
      "[-23.823, 83.2, 46.007, 29.656]\n",
      "[-134.58, 432.359, 228.368, 154.941]\n",
      "[-694.024, 2194.463, 1148.685, 787.619]\n",
      "[-3517.635, 11088.864, 5794.068, 3980.919]\n",
      "[-17769.946, 55983.38, 29241.655, 20099.219]\n",
      "[-89708.606, 282589.031, 147593.654, 101456.494]\n",
      "[-452819.889, 1426383.778, 744976.79, 512108.34]\n"
     ]
    },
    {
     "name": "stderr",
     "output_type": "stream",
     "text": [
      "C:\\Users\\NAVANE~1\\AppData\\Local\\Temp/ipykernel_7300/1033445293.py:21: RuntimeWarning: divide by zero encountered in double_scalars\n",
      "  diff=abs((Y[i]-X[i])/Y[i])\n"
     ]
    },
    {
     "data": {
      "image/png": "[encoded data removed]",
      "text/plain": [
       "<Figure size 432x288 with 1 Axes>"
      ]
     },
     "metadata": {
      "needs_background": "light"
     },
     "output_type": "display_data"
    },
    {
     "name": "stdout",
     "output_type": "stream",
     "text": [
      "Result: [-2.1829648525419655e+70, 6.876304496685965e+70, 3.591368432448477e+70, 2.468770843894882e+70]\n",
      "###########################################\n"
     ]
    }
   ],
   "source": [
    "import numpy as np\n",
    "import math\n",
    "from matplotlib import pyplot as plt \n",
    "#init the function with Square Matrix 4x4\n",
    "squareMatrixSize=4\n",
    "graphMatrix=[]\n",
    "\n",
    "def solvegsFunction(A,B,X,count,plt):\n",
    "    if(count<=10):\n",
    "        print(X)\n",
    "    Y=X.copy()\n",
    "    for i in range(squareMatrixSize):\n",
    "        X[i]=0\n",
    "        for j in range(squareMatrixSize):\n",
    "            if(j!=i):\n",
    "                X[i]=X[i]-(X[j]*A[i][j])\n",
    "        X[i]=X[i]+B[i][0]\n",
    "        X[i]=round(X[i]/A[i][i],3)\n",
    "    condition=True\n",
    "    for i in range(squareMatrixSize):\n",
    "        diff=abs((Y[i]-X[i])/Y[i])\n",
    "        if(diff>=0.00001):\n",
    "            condition=False\n",
    "            break\n",
    "            \n",
    "    #calculate the var for graph plot\n",
    "    for i in range(squareMatrixSize):\n",
    "        var=pow(X[i]-Y[i], 2)\n",
    "    var=math.sqrt(var)\n",
    "    plt.plot(count,var,\"ob\") \n",
    "    \n",
    "    if(not condition and count<=100): \n",
    "        return solvegsFunction(A,B,X,count+1,plt)\n",
    "    else:\n",
    "        return X\n",
    "    \n",
    "#generate a 4x4 matrix with random numbers\n",
    "randomAMatrix=np.random.randint(-10,10,size=(squareMatrixSize,squareMatrixSize))\n",
    "#generate a 4x1 matrix with random numbers\n",
    "randomBMatrix=np.random.randint(-10,10,size=(squareMatrixSize,1))\n",
    "#Solution\n",
    "X =[0,0,0,0]\n",
    "print(\"A:\")\n",
    "print(randomAMatrix)\n",
    "print(\"###########################################\")\n",
    "print(\"B:\")\n",
    "print(randomBMatrix)\n",
    "print(\"###########################################\")\n",
    "#init the plot\n",
    "x = np.arange(1,101) \n",
    "plt.title(\"Gauss Seidel iterations.\") \n",
    "plt.xlabel(\"Iterations\") \n",
    "plt.ylabel(\"∥xk+1 − xk∥2\") \n",
    "\n",
    "#get the result\n",
    "X=solvegsFunction(randomAMatrix,randomBMatrix,X,1,plt)\n",
    "#dispaly the graph \n",
    "plt.show()\n",
    "\n",
    "print(\"Result:\",X)\n",
    "print(\"###########################################\")\n"
   ]
  },
  {
   "cell_type": "code",
   "execution_count": 2,
   "id": "557b8192",
   "metadata": {},
   "outputs": [
    {
     "name": "stdout",
     "output_type": "stream",
     "text": [
      "A:\n",
      "[[ 7  2 -3  1]\n",
      " [-4  8  1 -2]\n",
      " [ 3 -2  9  2]\n",
      " [ 1 -1  1  4]]\n",
      "###########################################\n",
      "B:\n",
      "[[-1]\n",
      " [16]\n",
      " [-3]\n",
      " [ 5]]\n",
      "###########################################\n",
      "[0, 0, 0, 0]\n",
      "[-0.143, 1.928, 0.143, 1.732]\n",
      "[-0.88, 1.975, 0.014, 1.96]\n",
      "[-0.981, 1.998, 0.002, 1.994]\n",
      "[-0.998, 1.999, 0.0, 1.999]\n",
      "[-1.0, 2.0, 0.0, 2.0]\n"
     ]
    },
    {
     "name": "stderr",
     "output_type": "stream",
     "text": [
      "C:\\Users\\NAVANE~1\\AppData\\Local\\Temp/ipykernel_7300/1033445293.py:21: RuntimeWarning: divide by zero encountered in double_scalars\n",
      "  diff=abs((Y[i]-X[i])/Y[i])\n",
      "C:\\Users\\NAVANE~1\\AppData\\Local\\Temp/ipykernel_7300/1033445293.py:21: RuntimeWarning: invalid value encountered in double_scalars\n",
      "  diff=abs((Y[i]-X[i])/Y[i])\n"
     ]
    },
    {
     "data": {
      "image/png": "[encoded data removed]",
      "text/plain": [
       "<Figure size 432x288 with 1 Axes>"
      ]
     },
     "metadata": {
      "needs_background": "light"
     },
     "output_type": "display_data"
    },
    {
     "name": "stdout",
     "output_type": "stream",
     "text": [
      "Result: [-1.0, 2.0, 0.0, 2.0]\n",
      "###########################################\n"
     ]
    }
   ],
   "source": [
    "#generate a 4x4 matrix with random numbers\n",
    "randomAMatrix=np.array([[7,2,-3,1],[-4,8,1,-2],[3,-2,9,2],[1,-1,1,4]])\n",
    "#generate a 4x1 matrix with random numbers\n",
    "randomBMatrix=np.array([[-1],[16],[-3],[5]])\n",
    "#Solution\n",
    "X =[0,0,0,0]\n",
    "print(\"A:\")\n",
    "print(randomAMatrix)\n",
    "print(\"###########################################\")\n",
    "print(\"B:\")\n",
    "print(randomBMatrix)\n",
    "print(\"###########################################\")\n",
    "#init the plot\n",
    "x = np.arange(1,101) \n",
    "plt.title(\"Gauss Seidel iterations.\") \n",
    "plt.xlabel(\"Iterations\") \n",
    "plt.ylabel(\"∥xk+1 − xk∥2\") \n",
    "\n",
    "#get the result\n",
    "X=solvegsFunction(randomAMatrix,randomBMatrix,X,1,plt)\n",
    "#dispaly the graph \n",
    "plt.show()\n",
    "\n",
    "print(\"Result:\",X)\n",
    "print(\"###########################################\")"
   ]
  },
  {
   "cell_type": "code",
   "execution_count": null,
   "id": "87342055",
   "metadata": {},
   "outputs": [],
   "source": []
  }
 ],
 "metadata": {
  "kernelspec": {
   "display_name": "Python 3 (ipykernel)",
   "language": "python",
   "name": "python3"
  },
  "language_info": {
   "codemirror_mode": {
    "name": "ipython",
    "version": 3
   },
   "file_extension": ".py",
   "mimetype": "text/x-python",
   "name": "python",
   "nbconvert_exporter": "python",
   "pygments_lexer": "ipython3",
   "version": "3.9.7"
  }
 },
 "nbformat": 4,
 "nbformat_minor": 5
}
